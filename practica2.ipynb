{
  "nbformat": 4,
  "nbformat_minor": 0,
  "metadata": {
    "colab": {
      "provenance": [],
      "authorship_tag": "ABX9TyM8ch5qGTVeqRvY1yjRz/Di",
      "include_colab_link": true
    },
    "kernelspec": {
      "name": "python3",
      "display_name": "Python 3"
    },
    "language_info": {
      "name": "python"
    }
  },
  "cells": [
    {
      "cell_type": "markdown",
      "metadata": {
        "id": "view-in-github",
        "colab_type": "text"
      },
      "source": [
        "<a href=\"https://colab.research.google.com/github/kimberlyhinoztrozaolg/unidad1/blob/main/practica2.ipynb\" target=\"_parent\"><img src=\"https://colab.research.google.com/assets/colab-badge.svg\" alt=\"Open In Colab\"/></a>"
      ]
    },
    {
      "cell_type": "code",
      "execution_count": null,
      "metadata": {
        "id": "JYfBblY4rPeS"
      },
      "outputs": [],
      "source": []
    },
    {
      "cell_type": "markdown",
      "source": [
        "practica2-numpy\n",
        "kimberly hinostroza 5f\n",
        "fecha 9 sep 2025\n",
        "-----------------------------\n",
        "como verificar el numero de deimensiones.\n",
        "numpy proporciona el atributo ndim que devuelve un numero entero que nos dice cuantas dimensiones tiene la matriz.\n",
        "--------------------------------------------------\n",
        "ejemplo:comprueba de cuantas dimensiones son las siguientes matrices.\n",
        "---------------------------------------------\n"
      ],
      "metadata": {
        "id": "q1-jkjjgrYHz"
      }
    },
    {
      "cell_type": "code",
      "source": [
        "import numpy as np\n",
        "\n",
        "arregloA = np.array(42)\n",
        "arregloB = np.array([1,2,3,4,5])\n",
        "arregloC = np.array([[1,2,3],[4,5,6]])\n",
        "arregloD = np.array([[[1,2,3],[4,5,6]],[[1,2,3],[4,5,6]]])\n",
        "\n",
        "print(arregloA.ndim)\n",
        "print(arregloB.ndim)\n",
        "print(arregloC.ndim)\n",
        "print(arregloD.ndim)"
      ],
      "metadata": {
        "colab": {
          "base_uri": "https://localhost:8080/"
        },
        "id": "vspPzHEFsgCb",
        "outputId": "9739e0ae-bf13-42c2-f269-0a797eccacf5"
      },
      "execution_count": 1,
      "outputs": [
        {
          "output_type": "stream",
          "name": "stdout",
          "text": [
            "0\n",
            "1\n",
            "2\n",
            "3\n"
          ]
        }
      ]
    },
    {
      "cell_type": "markdown",
      "source": [
        "matrices de dimensiones superiores\n",
        "una matris puede tener cualquier numero de dimensiones.cuando se crea la martiz,puede definirel numero de dimensiones utilizando el argumento ndmim.\n",
        "ejemplo: crea una matriz con 5 dimensiones y verificada que tenga las 5 dimensiones.\n",
        "----------------------------------------"
      ],
      "metadata": {
        "id": "lvNpXqHDu4SD"
      }
    },
    {
      "cell_type": "code",
      "source": [
        "import numpy as np\n",
        "\n",
        "arreglo = np.array([1,2,3,4,5,] , ndmin = 5)\n",
        "\n",
        "print(arreglo)\n",
        "\n",
        "print(\"numero de dimensiones:\" , arreglo.ndim)\n"
      ],
      "metadata": {
        "colab": {
          "base_uri": "https://localhost:8080/"
        },
        "id": "NgP57UJWwIM7",
        "outputId": "e4a439d3-bbe4-4a27-b378-23a80f6ab4f7"
      },
      "execution_count": 5,
      "outputs": [
        {
          "output_type": "stream",
          "name": "stdout",
          "text": [
            "[[[[[1 2 3 4 5]]]]]\n",
            "numero de dimensiones: 5\n"
          ]
        }
      ]
    },
    {
      "cell_type": "markdown",
      "source": [
        "ejercicio:\n",
        "considerando la siguiente matriz\n",
        "\n",
        "arreglo = np.array([[1,2,3,],[4,5,6]])\n",
        "\n",
        "¿cuantas dimensiones tiene?\n",
        "respuesta = 2"
      ],
      "metadata": {
        "id": "AEDNpqltydZ2"
      }
    },
    {
      "cell_type": "markdown",
      "source": [
        "numpy indexacion de matrices\n",
        "acceder a elementos de una matriz\n",
        "la indexacion de matrices es lo mismo que acceder a un elemento de una matriz.\n",
        "puede acceder a un elemento de la matriz haciendo referencia a su numero de indice. los en las matrices numpy comienzan en 0,lo que significa que el primer elemento tiene el indice 0 y el segundo tiene el indice1,etc.\n",
        "\n",
        "ejemplo: obtenga el primer elemento de la siguiente matriz.\n",
        "-----------------------------------------------------\n"
      ],
      "metadata": {
        "id": "MqsrLlg8zSVv"
      }
    },
    {
      "cell_type": "code",
      "source": [
        "import numpy as np\n",
        "\n",
        "arreglo = np.array([1,2,3,4])\n",
        "\n",
        "print(arreglo[0])"
      ],
      "metadata": {
        "colab": {
          "base_uri": "https://localhost:8080/"
        },
        "id": "t5JHu7x71AQ5",
        "outputId": "45132371-df1f-462e-ba0e-e14939e941da"
      },
      "execution_count": 6,
      "outputs": [
        {
          "output_type": "stream",
          "name": "stdout",
          "text": [
            "1\n"
          ]
        }
      ]
    }
  ]
}