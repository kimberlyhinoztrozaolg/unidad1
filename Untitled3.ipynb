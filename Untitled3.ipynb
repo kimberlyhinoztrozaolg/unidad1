{
  "nbformat": 4,
  "nbformat_minor": 0,
  "metadata": {
    "colab": {
      "provenance": [],
      "authorship_tag": "ABX9TyPetwuWH3DdpyV37+d3oNw0",
      "include_colab_link": true
    },
    "kernelspec": {
      "name": "python3",
      "display_name": "Python 3"
    },
    "language_info": {
      "name": "python"
    }
  },
  "cells": [
    {
      "cell_type": "markdown",
      "metadata": {
        "id": "view-in-github",
        "colab_type": "text"
      },
      "source": [
        "<a href=\"https://colab.research.google.com/github/kimberlyhinoztrozaolg/unidad1/blob/main/Untitled3.ipynb\" target=\"_parent\"><img src=\"https://colab.research.google.com/assets/colab-badge.svg\" alt=\"Open In Colab\"/></a>"
      ]
    },
    {
      "cell_type": "code",
      "execution_count": null,
      "metadata": {
        "id": "KYkmW_4x01mp"
      },
      "outputs": [],
      "source": []
    },
    {
      "cell_type": "code",
      "source": [
        "import numpy as np\n",
        "from scipy import stats\n",
        "\n",
        "valores= np.array([25, 45, 56, 12, 67, 34, 55, 21])\n",
        "media = np.mean(valores)\n",
        "mediana = np.median(valores)\n",
        "moda = stats.mode(valores)\n",
        "print(\"La media es:\", media)\n",
        "print(\"La mediana es:\", mediana)\n",
        "print(\"la moda es:\", moda.mode)"
      ],
      "metadata": {
        "colab": {
          "base_uri": "https://localhost:8080/"
        },
        "id": "2pY-pSTa1aOn",
        "outputId": "9dd6b752-822d-462a-8d43-7ef6bca4ffed"
      },
      "execution_count": 9,
      "outputs": [
        {
          "output_type": "stream",
          "name": "stdout",
          "text": [
            "La media es: 39.375\n",
            "La mediana es: 39.5\n",
            "la moda es: 12\n"
          ]
        }
      ]
    },
    {
      "cell_type": "code",
      "source": [
        "import numpy as np\n",
        "from scipy import stats\n",
        "\n",
        "valores= np.array([10,20,30,40,20,50,20])\n",
        "media= np.mean (valores)\n",
        "mediana= np.mean (valores)\n",
        "moda = stats.mode(valores)\n",
        "print(\"la media es:\", media)\n",
        "print(\"la mediana es:\", mediana)\n",
        "print(\"la moda es:\", moda.mode)"
      ],
      "metadata": {
        "colab": {
          "base_uri": "https://localhost:8080/"
        },
        "id": "ywP8vkoH5daA",
        "outputId": "06f10655-6f7c-40a8-eef6-c0becebda57f"
      },
      "execution_count": 10,
      "outputs": [
        {
          "output_type": "stream",
          "name": "stdout",
          "text": [
            "la media es: 27.142857142857142\n",
            "la mediana es: 27.142857142857142\n",
            "la moda es: 20\n"
          ]
        }
      ]
    },
    {
      "cell_type": "code",
      "source": [
        "import numpy as np\n",
        "from scipy import stats\n",
        "\n",
        "valores= np.array([10,20,30,40,50])\n",
        "media= np.mean (valores)\n",
        "mediana= np.mean(valores)\n",
        "moda = stats.mode(valores)\n",
        "print(\"la media es:\" ,media)\n",
        "print(\"la mediana es:\",mediana)\n",
        "print(\"la moda es:\", moda.mode)"
      ],
      "metadata": {
        "colab": {
          "base_uri": "https://localhost:8080/"
        },
        "id": "SL95Hzkw6T24",
        "outputId": "e05aa283-b964-4745-94f9-b948d76f875c"
      },
      "execution_count": 11,
      "outputs": [
        {
          "output_type": "stream",
          "name": "stdout",
          "text": [
            "la media es: 30.0\n",
            "la mediana es: 30.0\n",
            "la moda es: 10\n"
          ]
        }
      ]
    }
  ]
}