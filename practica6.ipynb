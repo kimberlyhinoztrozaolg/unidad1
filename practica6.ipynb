{
  "nbformat": 4,
  "nbformat_minor": 0,
  "metadata": {
    "colab": {
      "provenance": [],
      "authorship_tag": "ABX9TyMDUmvH8VWn7dttN5T9uAPv",
      "include_colab_link": true
    },
    "kernelspec": {
      "name": "python3",
      "display_name": "Python 3"
    },
    "language_info": {
      "name": "python"
    }
  },
  "cells": [
    {
      "cell_type": "markdown",
      "metadata": {
        "id": "view-in-github",
        "colab_type": "text"
      },
      "source": [
        "<a href=\"https://colab.research.google.com/github/kimberlyhinoztrozaolg/unidad1/blob/main/practica6.ipynb\" target=\"_parent\"><img src=\"https://colab.research.google.com/assets/colab-badge.svg\" alt=\"Open In Colab\"/></a>"
      ]
    },
    {
      "cell_type": "code",
      "execution_count": null,
      "metadata": {
        "id": "iDxBfIcfCtOs"
      },
      "outputs": [],
      "source": []
    },
    {
      "cell_type": "markdown",
      "source": [
        "kimberly hinostroza-24 sep 2025\n",
        "\n",
        "practica 6-cortar arreglos numpy\n",
        "-------------------------------------\n",
        "slice python significa tomar elementos de un indice determinado a otro determinado indice.\n",
        "\n",
        "pasamos slice en lugar del indice de esta manera:[start:end]\n",
        "sino pasamos el inicio se concidera 0.\n",
        "sino pasamos el final,su longitud es conciderada una matriz de una dimension\n",
        "----------------------------------------------\n",
        "ejemplo([1,2,3,4,5,6,7])\n",
        "cortar los elementos del idice 1 al indice 5\n",
        "------------------------------------\n"
      ],
      "metadata": {
        "id": "UdC02Dj2CwOx"
      }
    },
    {
      "cell_type": "code",
      "source": [
        "import numpy as np\n",
        "\n",
        "arreglo = np.array([1,2,3,4,5,7])\n",
        "\n",
        "print(arreglo[1:5])"
      ],
      "metadata": {
        "colab": {
          "base_uri": "https://localhost:8080/"
        },
        "id": "kcijhPgBKcBd",
        "outputId": "27e64575-bbcb-4186-a1a3-1d582fb46e26"
      },
      "execution_count": 2,
      "outputs": [
        {
          "output_type": "stream",
          "name": "stdout",
          "text": [
            "[2 3 4 5]\n"
          ]
        }
      ]
    },
    {
      "cell_type": "markdown",
      "source": [
        "ejemplo 2:\n",
        "([1,2,3,4,5,6,7])\n",
        "cortar el indice 4 hasta el fial de la matriz\n",
        "--------------------------------------------"
      ],
      "metadata": {
        "id": "7HCWMYLPLKDO"
      }
    },
    {
      "cell_type": "code",
      "source": [
        "import numpy as np\n",
        "\n",
        "arreglo = np.array([1,2,3,4,5,6,7])\n",
        "\n",
        "print(arreglo[4:])"
      ],
      "metadata": {
        "colab": {
          "base_uri": "https://localhost:8080/"
        },
        "id": "b5Zn0Ww8LdLm",
        "outputId": "b46fd74a-955c-4e2b-cec7-7781c1962a33"
      },
      "execution_count": 3,
      "outputs": [
        {
          "output_type": "stream",
          "name": "stdout",
          "text": [
            "[5 6 7]\n"
          ]
        }
      ]
    },
    {
      "cell_type": "markdown",
      "source": [
        "ejemplo 3:\n",
        "({1,2,3,4,5,6,7])\n",
        "cortar elementos desde el principio desde el inicio hasta el indice 5"
      ],
      "metadata": {
        "id": "_VmGcYLuMIaH"
      }
    },
    {
      "cell_type": "code",
      "source": [
        "import numpy as np\n",
        "\n",
        "arreglo=np.array([1,2,3,4,5,6,7])\n",
        "\n",
        "print(arreglo[:5])\n"
      ],
      "metadata": {
        "colab": {
          "base_uri": "https://localhost:8080/"
        },
        "id": "ycErO_h8MXze",
        "outputId": "3345f765-4680-4b6e-b49a-92596b06ae8a"
      },
      "execution_count": 4,
      "outputs": [
        {
          "output_type": "stream",
          "name": "stdout",
          "text": [
            "[1 2 3 4 5]\n"
          ]
        }
      ]
    },
    {
      "cell_type": "markdown",
      "source": [
        "ejemplo 4:\n",
        "([1,2,3,4,5,6,7)]\n",
        "corte negativ. utilizamos el operador \"menos\" para hacer referencia a un indice desde el final\n",
        "-----------------------------------------\n",
        "cortar del indice 3 desde el final al indice 1 desde el final"
      ],
      "metadata": {
        "id": "iz_yS9ZIM2Xg"
      }
    },
    {
      "cell_type": "code",
      "source": [
        "import numpy as np\n",
        "\n",
        "arreglo=np.array([1,2,3,4,5,6,7])\n",
        "\n",
        "print(arreglo[-3:-1])"
      ],
      "metadata": {
        "colab": {
          "base_uri": "https://localhost:8080/"
        },
        "id": "wW-kByMuNdRf",
        "outputId": "62baf88f-8776-435e-af5d-644e9c181383"
      },
      "execution_count": 5,
      "outputs": [
        {
          "output_type": "stream",
          "name": "stdout",
          "text": [
            "[5 6]\n"
          ]
        }
      ]
    }
  ]
}