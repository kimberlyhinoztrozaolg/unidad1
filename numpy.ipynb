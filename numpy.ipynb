{
  "nbformat": 4,
  "nbformat_minor": 0,
  "metadata": {
    "colab": {
      "provenance": [],
      "authorship_tag": "ABX9TyPiUt5O2fGRV26ubvT7oyZx",
      "include_colab_link": true
    },
    "kernelspec": {
      "name": "python3",
      "display_name": "Python 3"
    },
    "language_info": {
      "name": "python"
    }
  },
  "cells": [
    {
      "cell_type": "markdown",
      "metadata": {
        "id": "view-in-github",
        "colab_type": "text"
      },
      "source": [
        "<a href=\"https://colab.research.google.com/github/kimberlyhinoztrozaolg/unidad1/blob/main/numpy.ipynb\" target=\"_parent\"><img src=\"https://colab.research.google.com/assets/colab-badge.svg\" alt=\"Open In Colab\"/></a>"
      ]
    },
    {
      "cell_type": "code",
      "execution_count": null,
      "metadata": {
        "id": "BOgbq6YDiV1W"
      },
      "outputs": [],
      "source": []
    },
    {
      "cell_type": "markdown",
      "source": [
        "numpy es una libreria de python.\n",
        "numpy se utiliza para trabajar con matrices o arreglos\n",
        "numpy es la abreviatura de \"python numerico\"\n",
        "tambien tiene funciones para trabajar en el dominio de algebra lineal, la transformada y las matrices\n",
        "en python tenemos listas que sirven como matrices, pero son lentas de procesar.\n",
        "numpy tiene como objetivo proporcionar un objeto de matriz que sea 50 veces mas rapido que las listas tradicionales."
      ],
      "metadata": {
        "id": "d89KWyczi1QC"
      }
    },
    {
      "cell_type": "code",
      "source": [
        "#primero tenemos que importar la libreria\n",
        "import numpy\n",
        "\n",
        "arreglo = numpy.array([1,2,3,4,5])\n",
        "print(arreglo)"
      ],
      "metadata": {
        "colab": {
          "base_uri": "https://localhost:8080/"
        },
        "id": "h5RM_hymlG8r",
        "outputId": "1a8a049e-775d-4031-f897-4ceb18d656c7"
      },
      "execution_count": 1,
      "outputs": [
        {
          "output_type": "stream",
          "name": "stdout",
          "text": [
            "[1 2 3 4 5]\n"
          ]
        }
      ]
    },
    {
      "cell_type": "markdown",
      "source": [
        "numpy como np\n",
        "numpy generalmente se importa bajo el alias np. en python los alias son un nombre alternativo para referirse a la misma cosa"
      ],
      "metadata": {
        "id": "wGJXbDkgmLe3"
      }
    },
    {
      "cell_type": "code",
      "source": [
        "import numpy as np\n",
        "\n",
        "arreglo = np.array([6,7,8,9,10])\n",
        "print (arreglo)"
      ],
      "metadata": {
        "colab": {
          "base_uri": "https://localhost:8080/"
        },
        "id": "TflaSkWDmqCB",
        "outputId": "b16cc903-3504-449d-a76b-88f07bb9afe7"
      },
      "execution_count": 2,
      "outputs": [
        {
          "output_type": "stream",
          "name": "stdout",
          "text": [
            "[ 6  7  8  9 10]\n"
          ]
        }
      ]
    },
    {
      "cell_type": "markdown",
      "source": [
        "comprobando la version numpy\n",
        "la cadena de la version se almacena en el atributo__version__"
      ],
      "metadata": {
        "id": "I9Ghz8Zjncjy"
      }
    },
    {
      "cell_type": "code",
      "source": [
        "import numpy as np\n",
        "\n",
        "print(np.__version__)"
      ],
      "metadata": {
        "colab": {
          "base_uri": "https://localhost:8080/"
        },
        "id": "r_ekNFWon0xl",
        "outputId": "33911750-122e-490a-af0a-73be44de1edc"
      },
      "execution_count": 3,
      "outputs": [
        {
          "output_type": "stream",
          "name": "stdout",
          "text": [
            "2.0.2\n"
          ]
        }
      ]
    },
    {
      "cell_type": "markdown",
      "source": [
        "numpy creando matrices\n",
        "crear un objeto ndarray de numpy\n",
        "numpy se utiliza para trabajar con matrices. el objeto de matriz se llama ndarray.\n",
        "podemos cear un numpy ndarray utilizando la funcion array()"
      ],
      "metadata": {
        "id": "9mdU4E8moP3t"
      }
    },
    {
      "cell_type": "code",
      "source": [
        "import numpy as np\n",
        "\n",
        "arreglo = np.array([\"kimi\" , \"vicente\" , \"mamango\" , \"aitana\"])\n",
        "print(arreglo)\n",
        "print(type(arreglo))"
      ],
      "metadata": {
        "colab": {
          "base_uri": "https://localhost:8080/"
        },
        "id": "zOGNvPxlpJHW",
        "outputId": "57d90d03-75e0-4262-fd14-250476775a1e"
      },
      "execution_count": 4,
      "outputs": [
        {
          "output_type": "stream",
          "name": "stdout",
          "text": [
            "['kimi' 'vicente' 'mamango' 'aitana']\n",
            "<class 'numpy.ndarray'>\n"
          ]
        }
      ]
    },
    {
      "cell_type": "markdown",
      "source": [
        "dimensiones en matrices\n",
        "una dimension en matrices es un nivel de profundidad de matriz (matrices anidadas)\n",
        "una martriz anidada contiene matrices como elementos\n",
        "matrices 0-D. son elementos de una matriz. cada valor deuna matriz es una matriz 0-D. ejemplo: crea una matriz 0-D con un valor de 42"
      ],
      "metadata": {
        "id": "2pLGRQwHqGEW"
      }
    },
    {
      "cell_type": "code",
      "source": [
        "import numpy as np\n",
        "\n",
        "arreglo = np.array(42)\n",
        "print(arreglo)"
      ],
      "metadata": {
        "colab": {
          "base_uri": "https://localhost:8080/"
        },
        "id": "G9YvFhkErNsW",
        "outputId": "2f591306-d0bf-4366-8b54-5dd0cdf9cb16"
      },
      "execution_count": 5,
      "outputs": [
        {
          "output_type": "stream",
          "name": "stdout",
          "text": [
            "42\n"
          ]
        }
      ]
    },
    {
      "cell_type": "markdown",
      "source": [
        "matrices 1-D\n",
        "una matriz que tiene matrices 0-D como elementos se denomina como matriz unidimensonal o 1-D.\n",
        "estas son las matrices mas comunes y basicas.\n",
        "ejemplo: crea una matris de 1-D que tenga los valores 1,2,3,4,5"
      ],
      "metadata": {
        "id": "FWXmElXUsWKR"
      }
    },
    {
      "cell_type": "code",
      "source": [
        "import numpy as np\n",
        "\n",
        "arreglo = np.array([1,2,3,4,5])\n",
        "\n",
        "print(arreglo)"
      ],
      "metadata": {
        "colab": {
          "base_uri": "https://localhost:8080/"
        },
        "id": "Y2gTGiYYtOTK",
        "outputId": "100815b4-d808-478b-dbaa-2ded666b5cfe"
      },
      "execution_count": 7,
      "outputs": [
        {
          "output_type": "stream",
          "name": "stdout",
          "text": [
            "[1 2 3 4 5]\n"
          ]
        }
      ]
    },
    {
      "cell_type": "markdown",
      "source": [
        "matrices 2D\n",
        "una matriz que tiene matrices 1-D como elementos se denmina matriz 2-D.\n",
        "a menudo se utiliza para representar matrices de segundo orden. numpy tiene un submodulo completo dedicado a operaciones con matrices llamado numpyt.mat\n",
        "ejemplo: crea una matriz 2D que contenga dos matrices con los valores 123 y 456"
      ],
      "metadata": {
        "id": "M9u8dQMZtzSa"
      }
    },
    {
      "cell_type": "code",
      "source": [
        "import numpy as np\n",
        "\n",
        "arreglo = np.array([[1,2,3],[4,5,6]])\n",
        "\n",
        "print(arreglo)"
      ],
      "metadata": {
        "colab": {
          "base_uri": "https://localhost:8080/"
        },
        "id": "iEEQijfburZd",
        "outputId": "d4cc4681-fbb4-4ae9-beeb-dd119232d029"
      },
      "execution_count": 8,
      "outputs": [
        {
          "output_type": "stream",
          "name": "stdout",
          "text": [
            "[[1 2 3]\n",
            " [4 5 6]]\n"
          ]
        }
      ]
    },
    {
      "cell_type": "markdown",
      "source": [
        "matrices 3D\n",
        "una matriz que tiene matrices 2-D se denomina 3-D.\n",
        "estas matrices se utilizan para representar una matris de tercer orden.\n",
        "ejemplo: crea una matriz de 3D con dos matrices bidimensioales, ambas conteniendo dos matrices con los valores 1,2,3 y 4,5,6."
      ],
      "metadata": {
        "id": "g4WoRk9PvUOV"
      }
    },
    {
      "cell_type": "code",
      "source": [
        "import numpy as np\n",
        "\n",
        "arreglo = np.array([[[1,2,3] , [4,5,6]] , [[1,2,3],[4,5,6]]])\n",
        "\n",
        "print(arreglo)"
      ],
      "metadata": {
        "colab": {
          "base_uri": "https://localhost:8080/"
        },
        "id": "ASsazNEOwOmy",
        "outputId": "707622e7-dfc4-4884-8796-14e65e0f1c39"
      },
      "execution_count": 9,
      "outputs": [
        {
          "output_type": "stream",
          "name": "stdout",
          "text": [
            "[[[1 2 3]\n",
            "  [4 5 6]]\n",
            "\n",
            " [[1 2 3]\n",
            "  [4 5 6]]]\n"
          ]
        }
      ]
    }
  ]
}