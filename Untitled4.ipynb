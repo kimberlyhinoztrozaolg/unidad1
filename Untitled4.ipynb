{
  "nbformat": 4,
  "nbformat_minor": 0,
  "metadata": {
    "colab": {
      "provenance": [],
      "authorship_tag": "ABX9TyNuuuBDLEur0i7rComStpua",
      "include_colab_link": true
    },
    "kernelspec": {
      "name": "python3",
      "display_name": "Python 3"
    },
    "language_info": {
      "name": "python"
    }
  },
  "cells": [
    {
      "cell_type": "markdown",
      "metadata": {
        "id": "view-in-github",
        "colab_type": "text"
      },
      "source": [
        "<a href=\"https://colab.research.google.com/github/kimberlyhinoztrozaolg/unidad1/blob/main/Untitled4.ipynb\" target=\"_parent\"><img src=\"https://colab.research.google.com/assets/colab-badge.svg\" alt=\"Open In Colab\"/></a>"
      ]
    },
    {
      "cell_type": "code",
      "execution_count": null,
      "metadata": {
        "id": "IPv7YJfPGfkg"
      },
      "outputs": [],
      "source": []
    },
    {
      "cell_type": "markdown",
      "source": [
        "kimberly hinostroza-practica 7-25 sep 2025\n",
        "-------------------------------------------\n",
        "slicing numpy\n",
        "------------------\n",
        "utilice STEP para determinar el paso del corte:\n",
        "ejemplo:([1,2,3,4,5,6,7]) -devuelve todos los elementos del indice 1 al indice 5\n"
      ],
      "metadata": {
        "id": "8M1gNvZuGgnw"
      }
    },
    {
      "cell_type": "code",
      "source": [
        "import numpy as np\n",
        "arreglo = np.array([1,2,3,4,5,6,7])\n",
        "print(arreglo[1:5:2])\n"
      ],
      "metadata": {
        "colab": {
          "base_uri": "https://localhost:8080/"
        },
        "id": "f92VhwX5IKIG",
        "outputId": "3ce309d8-aac8-43d9-e732-7c7e64780013"
      },
      "execution_count": 1,
      "outputs": [
        {
          "output_type": "stream",
          "name": "stdout",
          "text": [
            "[2 4]\n"
          ]
        }
      ]
    },
    {
      "cell_type": "markdown",
      "source": [
        "ejemplo 2: ([1,2,3,4,5,6,7])\n",
        "devuelve los elementos de la matriz"
      ],
      "metadata": {
        "id": "0ry4qqPlI6MF"
      }
    },
    {
      "cell_type": "code",
      "source": [
        "import numpy as np\n",
        "arreglo=np.array([1,2,3,4,5,6,7])\n",
        "print(arreglo[::2])\n"
      ],
      "metadata": {
        "colab": {
          "base_uri": "https://localhost:8080/"
        },
        "id": "vBrpGq4tJFD1",
        "outputId": "f8bb0667-7787-4a30-9ef0-f19929877130"
      },
      "execution_count": 2,
      "outputs": [
        {
          "output_type": "stream",
          "name": "stdout",
          "text": [
            "[1 3 5 7]\n"
          ]
        }
      ]
    },
    {
      "cell_type": "markdown",
      "source": [
        "slice de matrices 2D\n",
        "-----------------------\n",
        "ejemplo 3: ([[1,2,3,4,5], [6,7,8,9,10]])\n",
        "del segundo elemento,corte del indice 1 al inice 4"
      ],
      "metadata": {
        "id": "UHhSRVvBJvLO"
      }
    },
    {
      "cell_type": "code",
      "source": [
        "import numpy as np\n",
        "arreglo=np.array([[1,2,3,4,5], [6,7,8,9,10]])\n",
        "print(arreglo[1, 1:4])"
      ],
      "metadata": {
        "colab": {
          "base_uri": "https://localhost:8080/"
        },
        "id": "BCFSoAGXLfP3",
        "outputId": "49981236-c73b-486d-f913-7e3b86090b1b"
      },
      "execution_count": 4,
      "outputs": [
        {
          "output_type": "stream",
          "name": "stdout",
          "text": [
            "[7 8 9]\n"
          ]
        }
      ]
    },
    {
      "cell_type": "markdown",
      "source": [
        "ejemplo 4:([[1,2,3,4,5], [6,7,8,9,10]])\n",
        "de ambos elementos ,devuelve el indice 2\n",
        "------------------------------------------"
      ],
      "metadata": {
        "id": "zCi702shNGBe"
      }
    },
    {
      "cell_type": "code",
      "source": [
        "import numpy as np\n",
        "arreglo=np.array([[1,2,3,4,5], [6,7,8,9,10]])\n",
        "print(arreglo[0:2, 2])"
      ],
      "metadata": {
        "colab": {
          "base_uri": "https://localhost:8080/"
        },
        "id": "0eDFxtVDNgA-",
        "outputId": "75d7b322-edef-4b66-9263-f59339284218"
      },
      "execution_count": 5,
      "outputs": [
        {
          "output_type": "stream",
          "name": "stdout",
          "text": [
            "[3 8]\n"
          ]
        }
      ]
    },
    {
      "cell_type": "markdown",
      "source": [
        "ejemplo 5:([[1,2,3,4,5], [6,7,8,9,10]])\n",
        "de ambos elemento corta el indice 1 al indice 4.\n",
        "------------------------------------"
      ],
      "metadata": {
        "id": "bolPnG52OErf"
      }
    },
    {
      "cell_type": "code",
      "source": [
        "import numpy as np\n",
        "arreglo=np.array([[1,2,3,4,5], [6,7,8,9,10]])\n",
        "print(arreglo[0:2, 1:4])"
      ],
      "metadata": {
        "colab": {
          "base_uri": "https://localhost:8080/"
        },
        "id": "huOQsxrWOa8-",
        "outputId": "acdc142b-9dc1-42c8-86f1-ee253ff26f56"
      },
      "execution_count": 6,
      "outputs": [
        {
          "output_type": "stream",
          "name": "stdout",
          "text": [
            "[[2 3 4]\n",
            " [7 8 9]]\n"
          ]
        }
      ]
    },
    {
      "cell_type": "markdown",
      "source": [
        "EJERCICIO 1:autonomo Del siguiente arreglo, cual es el resultado ([1,2,3,4,5,6,7]) corta del primer elemento al sexto elemento con paso 2"
      ],
      "metadata": {
        "id": "zRpGxFN1R35G"
      }
    },
    {
      "cell_type": "code",
      "source": [
        "import numpy as np\n",
        "arreglo= np.array([1,2,3,4,5,6,7])\n",
        "print(arreglo[0:6:2])"
      ],
      "metadata": {
        "colab": {
          "base_uri": "https://localhost:8080/"
        },
        "id": "sUxfIx_cSIB-",
        "outputId": "75453fc1-fc21-4516-a59c-fe0bdd2b690b"
      },
      "execution_count": 7,
      "outputs": [
        {
          "output_type": "stream",
          "name": "stdout",
          "text": [
            "[1 3 5]\n"
          ]
        }
      ]
    }
  ]
}