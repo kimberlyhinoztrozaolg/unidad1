{
  "nbformat": 4,
  "nbformat_minor": 0,
  "metadata": {
    "colab": {
      "provenance": [],
      "authorship_tag": "ABX9TyP6hjTSPibaE7CEi1FToAFT",
      "include_colab_link": true
    },
    "kernelspec": {
      "name": "python3",
      "display_name": "Python 3"
    },
    "language_info": {
      "name": "python"
    }
  },
  "cells": [
    {
      "cell_type": "markdown",
      "metadata": {
        "id": "view-in-github",
        "colab_type": "text"
      },
      "source": [
        "<a href=\"https://colab.research.google.com/github/kimberlyhinoztrozaolg/unidad1/blob/main/ejemplo.ipynb\" target=\"_parent\"><img src=\"https://colab.research.google.com/assets/colab-badge.svg\" alt=\"Open In Colab\"/></a>"
      ]
    },
    {
      "cell_type": "code",
      "execution_count": null,
      "metadata": {
        "id": "WFehBV0-wX6p"
      },
      "outputs": [],
      "source": []
    },
    {
      "cell_type": "markdown",
      "source": [
        "prueba de colab python"
      ],
      "metadata": {
        "id": "z4EmKP3sxe8K"
      }
    },
    {
      "cell_type": "markdown",
      "source": [
        "variables"
      ],
      "metadata": {
        "id": "yLquoXp5yS1f"
      }
    },
    {
      "cell_type": "code",
      "source": [
        "#variables en python\n",
        "nombre = \"kimi\"\n",
        "paterno = \"hinostroza\"\n",
        "materno = \"olguin\"\n",
        "edad = 17\n",
        "estatura = 1.60\n",
        "\n",
        "print(nombre,paterno,materno,edad,estatura)"
      ],
      "metadata": {
        "colab": {
          "base_uri": "https://localhost:8080/"
        },
        "id": "fJypIRNDyXlo",
        "outputId": "9708f8e7-cee2-416e-8af5-e1008deeabf0"
      },
      "execution_count": 2,
      "outputs": [
        {
          "output_type": "stream",
          "name": "stdout",
          "text": [
            "kimi hinostroza olguin 17 1.6\n"
          ]
        }
      ]
    },
    {
      "cell_type": "markdown",
      "source": [
        "solicitar dos numeros al usuario y sumarlo"
      ],
      "metadata": {
        "id": "WK98HKc8zjfx"
      }
    },
    {
      "cell_type": "code",
      "source": [
        "numero1 = int(input(\"ingresa el primer numero\"))\n",
        "numero2 = int(input(\"ingresa el segundo numero\"))\n",
        "suma = numero1 + numero2\n",
        "print(\"suma = \", suma)"
      ],
      "metadata": {
        "colab": {
          "base_uri": "https://localhost:8080/"
        },
        "id": "G43O-D_hzujx",
        "outputId": "9de0c17f-b13e-416a-e86c-bf8138ddaa6b"
      },
      "execution_count": 3,
      "outputs": [
        {
          "output_type": "stream",
          "name": "stdout",
          "text": [
            "ingresa el primer numero11\n",
            "ingresa el segundo numero21\n",
            "suma =  32\n"
          ]
        }
      ]
    },
    {
      "cell_type": "code",
      "source": [
        "print(\"hola mundo\")"
      ],
      "metadata": {
        "colab": {
          "base_uri": "https://localhost:8080/"
        },
        "id": "XIu_THb6x1gq",
        "outputId": "a8f4f0ee-bfee-451e-b131-10886bcbb4ff"
      },
      "execution_count": 1,
      "outputs": [
        {
          "output_type": "stream",
          "name": "stdout",
          "text": [
            "hola mundo\n"
          ]
        }
      ]
    }
  ]
}