{
  "nbformat": 4,
  "nbformat_minor": 0,
  "metadata": {
    "colab": {
      "provenance": [],
      "authorship_tag": "ABX9TyNx0c9ZGvEKXiSxea9w1fX6",
      "include_colab_link": true
    },
    "kernelspec": {
      "name": "python3",
      "display_name": "Python 3"
    },
    "language_info": {
      "name": "python"
    }
  },
  "cells": [
    {
      "cell_type": "markdown",
      "metadata": {
        "id": "view-in-github",
        "colab_type": "text"
      },
      "source": [
        "<a href=\"https://colab.research.google.com/github/kimberlyhinoztrozaolg/unidad1/blob/main/Untitled1.ipynb\" target=\"_parent\"><img src=\"https://colab.research.google.com/assets/colab-badge.svg\" alt=\"Open In Colab\"/></a>"
      ]
    },
    {
      "cell_type": "code",
      "execution_count": null,
      "metadata": {
        "id": "9ToBWVpHPcV6"
      },
      "outputs": [],
      "source": []
    },
    {
      "cell_type": "markdown",
      "source": [
        "NUMPY INDEXACION DE MATRICES.\n",
        "ACCEDER A ELEMENTOS DE UNA MATRIZ.\n",
        "La indexacion de matrices lo mismo que acceder a un elemento de una matriz.puede acceder a un elemento de una matriz haciendo referencia a su numero de indice.\n",
        "Los indices  en las matrices numpy comienza en 0 lo que significa que el primer elemento tiene indice 0,el segundo tiene indice 1,y el tercero tiene indice 2,etc.\n",
        "ejemplo:obtenga el primer elemento de la siguiente matriz."
      ],
      "metadata": {
        "id": "Omxol_D0PmE8"
      }
    },
    {
      "cell_type": "code",
      "source": [
        "import numpy as np\n",
        "arreglo=np.array([1,2,3,4,5])\n",
        "print(arreglo[0])"
      ],
      "metadata": {
        "colab": {
          "base_uri": "https://localhost:8080/"
        },
        "id": "uvaTdHlTRZ-r",
        "outputId": "66543e8e-b72a-4da4-d2b7-fbcebf9878d0"
      },
      "execution_count": 2,
      "outputs": [
        {
          "output_type": "stream",
          "name": "stdout",
          "text": [
            "1\n"
          ]
        }
      ]
    },
    {
      "cell_type": "markdown",
      "source": [
        "De la siguiente lista . 6,7,8,9, 10 obtenga el tercero y\n",
        "Cuarto elemento."
      ],
      "metadata": {
        "id": "ab8Ej31yTEwx"
      }
    },
    {
      "cell_type": "code",
      "source": [
        "import numpy as np\n",
        "arreglo=np.array([6,7,8,9,10])\n",
        "print(arreglo[2])\n",
        "print(arreglo[3])"
      ],
      "metadata": {
        "colab": {
          "base_uri": "https://localhost:8080/"
        },
        "id": "DliHi88gTHFy",
        "outputId": "c4e73c79-e96f-48bc-c38f-cfc35f147cc9"
      },
      "execution_count": 8,
      "outputs": [
        {
          "output_type": "stream",
          "name": "stdout",
          "text": [
            "8\n",
            "9\n"
          ]
        }
      ]
    },
    {
      "cell_type": "markdown",
      "source": [
        "Acceder a matrices dos D. Para acceder a elementos de matrices dos D Podemos utilizar  numeros enteros separados por comas que represanta al numero de dimensión y al indice del elemento.\n",
        "Piense en matrices dos D como una tabla con filas y columnas.\n",
        "donde la Dimensión representa la fila y el indice representa la columna.\n",
        "Realiza una matriz 2D con las siguientes listas .\n",
        "Lista: 1\n",
        "1,2, 3:4,5\n",
        "Lista 2\n",
        "6, 7, 8, 9,10\n",
        "De la matriz 2D accede al elemento de la primera fila segunda columna."
      ],
      "metadata": {
        "id": "zzqPzIFCT6HT"
      }
    },
    {
      "cell_type": "code",
      "source": [
        "import  numpy as np\n",
        "arreglo=np.array([[1,2, 3,4,5],[6,7,8,9,10]])\n",
        "print(arreglo [0,1])"
      ],
      "metadata": {
        "colab": {
          "base_uri": "https://localhost:8080/"
        },
        "id": "SU3gokbOUzCp",
        "outputId": "d3891b8e-54c8-4308-acb6-c8372ec4baf2"
      },
      "execution_count": 10,
      "outputs": [
        {
          "output_type": "stream",
          "name": "stdout",
          "text": [
            "2\n"
          ]
        }
      ]
    }
  ]
}